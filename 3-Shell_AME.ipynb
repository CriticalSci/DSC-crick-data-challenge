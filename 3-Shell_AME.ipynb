{
  "cells": [
    {
      "cell_type": "markdown",
      "source": [
        "# Analysis\n",
        "## Strategy\n",
        "\n",
        "1. Identify genes with significant changes in expression.\n",
        "2. Identify zones with significant changes in accessibility.\n",
        "3. Detect hotspots in accessibility changes over gene regulatory areas of differentially expressed genes.\n",
        "4. Detect enriched TF motifs in zones presenting accessibility changes.\n",
        "5. Detect enriched TF motifs in hotspots.\n",
        "6. Perform GO Analysis to put genes in context."
      ],
      "metadata": {}
    },
    {
      "cell_type": "markdown",
      "source": [
        "## AME Analysis of Motif Enrichment\n",
        "### Defining windows for ROIs\n",
        "**High Access / Upregulated**\n",
        "- Window 0: -2000 to 0  \n",
        "- Window 1: -4250 to -3250  \n",
        "- Window 2: -8000 to -4500\n",
        "- Window 3: -9750 to -8500  "
      ],
      "metadata": {}
    },
    {
      "cell_type": "code",
      "source": [
        "#!awk 'BEGIN{OFS=\"\\t\";offset5=-2000;offset3=0} NR==FNR{chr[$1]=$2;next} {if($1 in chr){lim=chr[$1];if($6==\"+\"){left=$2+offset5;right=$2+offset3}else{left=$3-offset3;right=$3-offset5}; if(left<0){left=0}else if(right>lim){right=lim}else{$2=left;$3=right}; print}else{print \"error \"$1\" not in genome\"}}' output/GRCh38.genome output/upregby_hiprom.bed | bedtools intersect -a - -b output/atac_hi.bed | sort -k1,1 -k2,2n | bedtools getfasta -name -s -fi external/GRCh38.fa -bed - | awk '/^>/{$0=$0\"_\"(++i)}1' > output/upregby_hiprom_win0.fasta"
      ],
      "outputs": [],
      "execution_count": 1,
      "metadata": {
        "collapsed": false,
        "outputHidden": false,
        "inputHidden": false
      }
    },
    {
      "cell_type": "markdown",
      "source": [
        "The pipeline above has been converted into a bash script: `scripts/tssreg.sh` to make it clearer and easier to experiment with"
      ],
      "metadata": {}
    },
    {
      "cell_type": "code",
      "source": [
        "!scripts/tssreg.sh -i output/upregby_hiprom.bed -p output/atac_hi.bed -g output/GRCh38.genome -f external/GRCh38.fa -l \"-2000\" -r 0 > output/upregby_hiprom_win0.fasta"
      ],
      "outputs": [],
      "execution_count": 11,
      "metadata": {
        "collapsed": false,
        "outputHidden": false,
        "inputHidden": false
      }
    },
    {
      "cell_type": "code",
      "source": [
        "!scripts/tssreg.sh -i output/upregby_hiprom.bed -p output/atac_hi.bed -g output/GRCh38.genome -f external/GRCh38.fa -l \"-4250\" -r \"-3250\" > output/upregby_hiprom_win1.fasta"
      ],
      "outputs": [],
      "execution_count": null,
      "metadata": {
        "collapsed": false,
        "outputHidden": false,
        "inputHidden": false
      }
    },
    {
      "cell_type": "code",
      "source": [
        "!scripts/tssreg.sh -i output/upregby_hiprom.bed -p output/atac_hi.bed -g output/GRCh38.genome -f external/GRCh38.fa -l \"-8000\" -r \"-4500\" > output/upregby_hiprom_win2.fasta"
      ],
      "outputs": [],
      "execution_count": null,
      "metadata": {
        "collapsed": false,
        "outputHidden": false,
        "inputHidden": false
      }
    },
    {
      "cell_type": "code",
      "source": [
        "!scripts/tssreg.sh -i output/upregby_hiprom.bed -p output/atac_hi.bed -g output/GRCh38.genome -f external/GRCh38.fa -l \"-9750\" -r \"-8500\" > output/upregby_hiprom_win3.fasta"
      ],
      "outputs": [],
      "execution_count": null,
      "metadata": {
        "collapsed": false,
        "outputHidden": false,
        "inputHidden": false
      }
    },
    {
      "cell_type": "markdown",
      "source": [
        "**High Access / Downregulated**\n",
        "- Window 0: -2000 to 0  \n",
        "- Window 1: -9500 to -4500  "
      ],
      "metadata": {}
    },
    {
      "cell_type": "code",
      "source": [
        "!scripts/tssreg.sh -i output/dwregby_hiprom.bed -p output/atac_hi.bed -g output/GRCh38.genome -f external/GRCh38.fa -l \"-2000\" -r \"0\" > output/dwregby_hiprom_win0.fasta"
      ],
      "outputs": [],
      "execution_count": null,
      "metadata": {
        "collapsed": false,
        "outputHidden": false,
        "inputHidden": false
      }
    },
    {
      "cell_type": "code",
      "source": [
        "!scripts/tssreg.sh -i output/dwregby_hiprom.bed -p output/atac_hi.bed -g output/GRCh38.genome -f external/GRCh38.fa -l \"-9500\" -r \"-4500\" > output/dwregby_hiprom_win1.fasta"
      ],
      "outputs": [],
      "execution_count": null,
      "metadata": {
        "collapsed": false,
        "outputHidden": false,
        "inputHidden": false
      }
    },
    {
      "cell_type": "markdown",
      "source": [
        "**Low Access / Upregulated**\n",
        "- Window 0: -3000 to 0  \n",
        "- Window 1: -6000 to -4500  \n",
        "- Window 2: -9750 to -8500"
      ],
      "metadata": {}
    },
    {
      "cell_type": "code",
      "source": [
        "!scripts/tssreg.sh -i output/upregby_loprom.bed -p output/atac_lo.bed -g output/GRCh38.genome -f external/GRCh38.fa -l \"-3000\" -r \"0\" > output/upregby_loprom_win0.fasta"
      ],
      "outputs": [],
      "execution_count": null,
      "metadata": {
        "collapsed": false,
        "outputHidden": false,
        "inputHidden": false
      }
    },
    {
      "cell_type": "code",
      "source": [
        "!scripts/tssreg.sh -i output/upregby_loprom.bed -p output/atac_lo.bed -g output/GRCh38.genome -f external/GRCh38.fa -l \"-6000\" -r \"-4500\" > output/upregby_loprom_win1.fasta"
      ],
      "outputs": [],
      "execution_count": null,
      "metadata": {
        "collapsed": false,
        "outputHidden": false,
        "inputHidden": false
      }
    },
    {
      "cell_type": "code",
      "source": [
        "!scripts/tssreg.sh -i output/upregby_loprom.bed -p output/atac_lo.bed -g output/GRCh38.genome -f external/GRCh38.fa -l \"-9750\" -r \"-8500\" > output/upregby_loprom_win2.fasta"
      ],
      "outputs": [],
      "execution_count": null,
      "metadata": {
        "collapsed": false,
        "outputHidden": false,
        "inputHidden": false
      }
    },
    {
      "cell_type": "markdown",
      "source": [
        "**Low Access / Downregulated**\n",
        "- Window 0: -3000 to 0   \n",
        "- Window 1: -9750 to -8250"
      ],
      "metadata": {}
    },
    {
      "cell_type": "code",
      "source": [
        "!scripts/tssreg.sh -i output/dwregby_loprom.bed -p output/atac_lo.bed -g output/GRCh38.genome -f external/GRCh38.fa -l \"-3000\" -r \"0\" > output/dwregby_loprom_win0.fasta"
      ],
      "outputs": [],
      "execution_count": null,
      "metadata": {
        "collapsed": false,
        "outputHidden": false,
        "inputHidden": false
      }
    },
    {
      "cell_type": "code",
      "source": [
        "!scripts/tssreg.sh -i output/dwregby_loprom.bed -p output/atac_lo.bed -g output/GRCh38.genome -f external/GRCh38.fa -l \"-9750\" -r \"-8250\" > output/dwregby_loprom_win1.fasta"
      ],
      "outputs": [],
      "execution_count": null,
      "metadata": {
        "collapsed": false,
        "outputHidden": false,
        "inputHidden": false
      }
    },
    {
      "cell_type": "markdown",
      "source": [
        "All High Access Regions  \n",
        "All Low Access Regions  \n",
        "All Regions"
      ],
      "metadata": {}
    },
    {
      "cell_type": "code",
      "source": [
        "!bedtools getfasta -name -fi external/GRCh38.fa -bed output/atac_hi.bed > output/atac_hi.fasta\n",
        "!awk '{/>/&&++a||b+=length()}END{print b/a,a}' output/atac_hi.fasta\n",
        "!bedtools getfasta -name -fi external/GRCh38.fa -bed output/atac_lo.bed > output/atac_lo.fasta\n",
        "!awk '{/>/&&++a||b+=length()}END{print b/a,a}' output/atac_lo.fasta\n",
        "!bedtools getfasta -name -fi external/GRCh38.fa -bed output/atac_diffx.bed > output/atac_diffx.fasta\n",
        "!awk '{/>/&&++a||b+=length()}END{print b/a,a}' output/atac_diffx.fasta\n",
        "!bedtools getfasta -name -fi external/GRCh38.fa -bed output/atacseq_fpeaks.bed6 > output/atac_fpeaks.fasta\n",
        "!awk '{/>/&&++a||b+=length()}END{print b/a,a}' output/atac_fpeaks.fasta"
      ],
      "outputs": [
        {
          "output_type": "stream",
          "name": "stdout",
          "text": [
            "741.084 16971\n",
            "929.923 11618\n",
            "817.825 28589\n",
            "685.638 173264\n"
          ]
        }
      ],
      "execution_count": 12,
      "metadata": {
        "collapsed": false,
        "outputHidden": false,
        "inputHidden": false
      }
    },
    {
      "cell_type": "markdown",
      "source": [
        "### Generating backgrounds for AME\n",
        "Creating a random background"
      ],
      "metadata": {}
    },
    {
      "cell_type": "code",
      "source": [
        "!bedtools random -l 100 -n 100000 -seed 42 -g output/GRCh38.genome > output/atac_bgd.bed 2> /dev/null\n",
        "!bedtools getfasta -name -fi external/GRCh38.fa -bed output/atac_bgd.bed > output/atac_bgd.fasta\n",
        "!awk '{/>/&&++a||b+=length()}END{print b/a,a}' output/atac_bgd.fasta"
      ],
      "outputs": [
        {
          "output_type": "stream",
          "name": "stdout",
          "text": [
            "100 100000\r\n"
          ]
        }
      ],
      "execution_count": 13,
      "metadata": {
        "collapsed": false,
        "outputHidden": false,
        "inputHidden": false
      }
    },
    {
      "cell_type": "markdown",
      "source": [
        "### AME: General and Differential Landscape - Enriched Motifs"
      ],
      "metadata": {}
    },
    {
      "cell_type": "code",
      "source": [
        "!ame --o output/AME/total_VS_bgd --scoring avg --method fisher --hit-lo-fraction 0.25 --evalue-report-threshold 0.05 --control output/atac_bgd.fasta output/atac_fpeaks.fasta external/JASPAR2018_HUMAN_meme.txt"
      ],
      "outputs": [
        {
          "output_type": "stream",
          "name": "stdout",
          "text": [
            "Using average odds scoring.\n",
            "Added external/JASPAR2018_HUMAN_meme.txt to motif_sources which now has 1 file names.\n",
            "Motif file name is external/JASPAR2018_HUMAN_meme.txt.\n",
            "Writing results to output directory 'output/AME/total_VS_bgd'.\n",
            "E-value threshold for reporting results: 0.05\n",
            "Checking alphabets in 1 motif files.\n",
            "Loading motifs from file 'external/JASPAR2018_HUMAN_meme.txt'\n",
            "Loading primary sequences.\n",
            "Loading control sequences.\n",
            "Not in partition maximization mode. Fixing partition at the number of primary sequences (173264).\n",
            "MOTIF: 1 SEQ: 273264/273264\n",
            "Sorting sequences by sequence PWM score to get PWM ranks; breaking ties to put negatives first.\n",
            "Leaving sequences sorted by PWM score.\n",
            "Optimizing over sequence PWM score threshold.\n",
            "MOTIF: 639 SEQ: 273264/273264\n"
          ]
        }
      ],
      "execution_count": 14,
      "metadata": {
        "collapsed": false,
        "outputHidden": false,
        "inputHidden": false
      }
    },
    {
      "cell_type": "code",
      "source": [
        "!ame --o output/AME/diffx_VS_total --scoring avg --method fisher --hit-lo-fraction 0.25 --evalue-report-threshold 0.05 --control output/atac_fpeaks.fasta output/atac_diffx.fasta external/JASPAR2018_HUMAN_meme.txt"
      ],
      "outputs": [
        {
          "output_type": "stream",
          "name": "stdout",
          "text": [
            "Using average odds scoring.\n",
            "Added external/JASPAR2018_HUMAN_meme.txt to motif_sources which now has 1 file names.\n",
            "Motif file name is external/JASPAR2018_HUMAN_meme.txt.\n",
            "Writing results to output directory 'output/AME/diffx_VS_total'.\n",
            "E-value threshold for reporting results: 0.05\n",
            "Checking alphabets in 1 motif files.\n",
            "Loading motifs from file 'external/JASPAR2018_HUMAN_meme.txt'\n",
            "Loading primary sequences.\n",
            "Loading control sequences.\n",
            "Not in partition maximization mode. Fixing partition at the number of primary sequences (28589).\n",
            "MOTIF: 1 SEQ: 201853/201853\n",
            "Sorting sequences by sequence PWM score to get PWM ranks; breaking ties to put negatives first.\n",
            "Leaving sequences sorted by PWM score.\n",
            "Optimizing over sequence PWM score threshold.\n",
            "MOTIF: 639 SEQ: 201853/201853\n"
          ]
        }
      ],
      "execution_count": 15,
      "metadata": {
        "collapsed": false,
        "outputHidden": false,
        "inputHidden": false
      }
    },
    {
      "cell_type": "markdown",
      "source": [
        "### AME: High/Low Accessibility Motifs Enrichment\n",
        "\n",
        "Note: I have selected Human Only Motifs from JASPAR  \n",
        "http://jaspar.genereg.net  \n",
        "File is provided in external/JASPAR2018_HUMAN_meme.txt"
      ],
      "metadata": {}
    },
    {
      "cell_type": "code",
      "source": [
        "!ame --o output/AME/hi_VS_diffx --scoring avg --method fisher --hit-lo-fraction 0.25 --evalue-report-threshold 0.05 --control output/atac_diffx.fasta output/atac_hi.fasta external/JASPAR2018_HUMAN_meme.txt"
      ],
      "outputs": [
        {
          "output_type": "stream",
          "name": "stdout",
          "text": [
            "Using average odds scoring.\n",
            "Added external/JASPAR2018_HUMAN_meme.txt to motif_sources which now has 1 file names.\n",
            "Motif file name is external/JASPAR2018_HUMAN_meme.txt.\n",
            "Writing results to output directory 'output/AME/hi_VS_diffx'.\n",
            "E-value threshold for reporting results: 0.05\n",
            "Checking alphabets in 1 motif files.\n",
            "Loading motifs from file 'external/JASPAR2018_HUMAN_meme.txt'\n",
            "Loading primary sequences.\n",
            "Loading control sequences.\n",
            "Not in partition maximization mode. Fixing partition at the number of primary sequences (16971).\n",
            "MOTIF: 1 SEQ: 45560/45560\n",
            "Sorting sequences by sequence PWM score to get PWM ranks; breaking ties to put negatives first.\n",
            "Leaving sequences sorted by PWM score.\n",
            "Optimizing over sequence PWM score threshold.\n",
            "MOTIF: 639 SEQ: 45560/45560\n"
          ]
        }
      ],
      "execution_count": 16,
      "metadata": {
        "collapsed": false,
        "outputHidden": false,
        "inputHidden": false
      }
    },
    {
      "cell_type": "code",
      "source": [
        "!ame --o output/AME/lo_VS_diffx --scoring avg --method fisher --hit-lo-fraction 0.25 --evalue-report-threshold 0.05 --control output/atac_diffx.fasta output/atac_lo.fasta external/JASPAR2018_HUMAN_meme.txt"
      ],
      "outputs": [
        {
          "output_type": "stream",
          "name": "stdout",
          "text": [
            "Using average odds scoring.\n",
            "Added external/JASPAR2018_HUMAN_meme.txt to motif_sources which now has 1 file names.\n",
            "Motif file name is external/JASPAR2018_HUMAN_meme.txt.\n",
            "Writing results to output directory 'output/AME/lo_VS_diffx'.\n",
            "E-value threshold for reporting results: 0.05\n",
            "Checking alphabets in 1 motif files.\n",
            "Loading motifs from file 'external/JASPAR2018_HUMAN_meme.txt'\n",
            "Loading primary sequences.\n",
            "Loading control sequences.\n",
            "Not in partition maximization mode. Fixing partition at the number of primary sequences (11618).\n",
            "MOTIF: 1 SEQ: 40207/40207\n",
            "Sorting sequences by sequence PWM score to get PWM ranks; breaking ties to put negatives first.\n",
            "Leaving sequences sorted by PWM score.\n",
            "Optimizing over sequence PWM score threshold.\n",
            "MOTIF: 639 SEQ: 40207/40207\n"
          ]
        }
      ],
      "execution_count": 17,
      "metadata": {
        "collapsed": false,
        "outputHidden": false,
        "inputHidden": false
      }
    },
    {
      "cell_type": "markdown",
      "source": [
        "### AME Regional Enrichment with Up/Down Regulated Genes"
      ],
      "metadata": {}
    },
    {
      "cell_type": "markdown",
      "source": [
        "**High Access / Upregulated** Only Window 0 has hits\n",
        "- Window 0: -2000 to 0  \n",
        "- Window 1: -4250 to -3250  \n",
        "- Window 2: -8000 to -4500\n",
        "- Window 3: -9750 to -8500  "
      ],
      "metadata": {}
    },
    {
      "cell_type": "code",
      "source": [
        "!ame --o output/AME/uphiwin0_VS_hi --scoring avg --method fisher --hit-lo-fraction 0.25 --evalue-report-threshold 0.05 --control output/atac_hi.fasta output/upregby_hiprom_win0.fasta external/JASPAR2018_HUMAN_meme.txt\n",
        "#!ame --o output/AME/uphiwin1_VS_hi --scoring avg --method fisher --hit-lo-fraction 0.25 --evalue-report-threshold 0.05 --control output/atac_hi.fasta output/upregby_hiprom_win1.fasta external/JASPAR2018_HUMAN_meme.txt\n",
        "#!ame --o output/AME/uphiwin2_VS_hi --scoring avg --method fisher --hit-lo-fraction 0.25 --evalue-report-threshold 0.05 --control output/atac_hi.fasta output/upregby_hiprom_win2.fasta external/JASPAR2018_HUMAN_meme.txt\n",
        "#!ame --o output/AME/uphiwin3_VS_hi --scoring avg --method fisher --hit-lo-fraction 0.25 --evalue-report-threshold 0.05 --control output/atac_hi.fasta output/upregby_hiprom_win3.fasta external/JASPAR2018_HUMAN_meme.txt"
      ],
      "outputs": [
        {
          "output_type": "stream",
          "name": "stdout",
          "text": [
            "Using average odds scoring.\n",
            "Added external/JASPAR2018_HUMAN_meme.txt to motif_sources which now has 1 file names.\n",
            "Motif file name is external/JASPAR2018_HUMAN_meme.txt.\n",
            "Writing results to output directory 'output/AME/uphiwin0_VS_hi'.\n",
            "E-value threshold for reporting results: 0.05\n",
            "Checking alphabets in 1 motif files.\n",
            "Loading motifs from file 'external/JASPAR2018_HUMAN_meme.txt'\n",
            "Loading primary sequences.\n",
            "Loading control sequences.\n",
            "Not in partition maximization mode. Fixing partition at the number of primary sequences (85).\n",
            "MOTIF: 1 SEQ: 17056/17056\n",
            "Sorting sequences by sequence PWM score to get PWM ranks; breaking ties to put negatives first.\n",
            "Leaving sequences sorted by PWM score.\n",
            "Optimizing over sequence PWM score threshold.\n",
            "MOTIF: 639 SEQ: 17056/17056\n"
          ]
        }
      ],
      "execution_count": 18,
      "metadata": {
        "collapsed": false,
        "outputHidden": false,
        "inputHidden": false
      }
    },
    {
      "cell_type": "markdown",
      "source": [
        "**High Access / Downregulated** (No hits)\n",
        "- Window 0: -2000 to 0  \n",
        "- Window 1: -9500 to -4500 "
      ],
      "metadata": {}
    },
    {
      "cell_type": "code",
      "source": [
        "#!ame --o output/AME/dwhiwin0_VS_hi --scoring avg --method fisher --hit-lo-fraction 0.25 --evalue-report-threshold 0.05 --control output/atac_hi.fasta output/dwregby_hiprom_win0.fasta external/JASPAR2018_HUMAN_meme.txt\n",
        "#!ame --o output/AME/dwhiwin1_VS_hi --scoring avg --method fisher --hit-lo-fraction 0.25 --evalue-report-threshold 0.05 --control output/atac_hi.fasta output/dwregby_hiprom_win1.fasta external/JASPAR2018_HUMAN_meme.txt"
      ],
      "outputs": [],
      "execution_count": 19,
      "metadata": {
        "collapsed": false,
        "outputHidden": false,
        "inputHidden": false
      }
    },
    {
      "cell_type": "markdown",
      "source": [
        "**Low Access / Upregulated** No Hits\n",
        "- Window 0: -3000 to 0  \n",
        "- Window 1: -6000 to -4500  \n",
        "- Window 2: -9750 to -8500"
      ],
      "metadata": {}
    },
    {
      "cell_type": "code",
      "source": [
        "#!ame --o output/AME/uplowin0_VS_lo --scoring avg --method fisher --hit-lo-fraction 0.25 --evalue-report-threshold 0.05 --control output/atac_lo.fasta output/upregby_loprom_win0.fasta external/JASPAR2018_HUMAN_meme.txt\n",
        "#!ame --o output/AME/uplowin1_VS_lo --scoring avg --method fisher --hit-lo-fraction 0.25 --evalue-report-threshold 0.05 --control output/atac_lo.fasta output/upregby_loprom_win1.fasta external/JASPAR2018_HUMAN_meme.txt\n",
        "#!ame --o output/AME/uplowin2_VS_lo --scoring avg --method fisher --hit-lo-fraction 0.25 --evalue-report-threshold 0.05 --control output/atac_lo.fasta output/upregby_loprom_win2.fasta external/JASPAR2018_HUMAN_meme.txt"
      ],
      "outputs": [],
      "execution_count": 20,
      "metadata": {
        "collapsed": false,
        "outputHidden": false,
        "inputHidden": false
      }
    },
    {
      "cell_type": "markdown",
      "source": [
        "**Low Access / Downregulated** No Hits\n",
        "- Window 0: -3000 to 0   \n",
        "- Window 1: -9750 to -8250"
      ],
      "metadata": {}
    },
    {
      "cell_type": "code",
      "source": [
        "#!ame --o output/AME/dwlowin0_VS_diffx --scoring avg --method fisher --hit-lo-fraction 0.25 --evalue-report-threshold 0.05 --control output/atac_diffx.fasta output/dwregby_loprom_win0.fasta external/JASPAR2018_HUMAN_meme.txt\n",
        "#!ame --o output/AME/dwlowin0_VS_lo --scoring avg --method fisher --hit-lo-fraction 0.25 --evalue-report-threshold 0.05 --control output/atac_lo.fasta output/dwregby_loprom_win0.fasta external/JASPAR2018_HUMAN_meme.txt\n",
        "#!ame --o output/AME/dwlowin1_VS_lo --scoring avg --method fisher --hit-lo-fraction 0.25 --evalue-report-threshold 0.05 --control output/atac_lo.fasta output/dwregby_loprom_win1.fasta external/JASPAR2018_HUMAN_meme.txt"
      ],
      "outputs": [
        {
          "output_type": "stream",
          "name": "stdout",
          "text": [
            "Using average odds scoring.\n",
            "Added external/JASPAR2018_HUMAN_meme.txt to motif_sources which now has 1 file names.\n",
            "Motif file name is external/JASPAR2018_HUMAN_meme.txt.\n",
            "Writing results to output directory 'output/AME/dwlowin0_VS_diffx'.\n",
            "E-value threshold for reporting results: 0.05\n",
            "Checking alphabets in 1 motif files.\n",
            "Loading motifs from file 'external/JASPAR2018_HUMAN_meme.txt'\n",
            "Loading primary sequences.\n",
            "Loading control sequences.\n",
            "Not in partition maximization mode. Fixing partition at the number of primary sequences (3).\n",
            "MOTIF: 1 SEQ: 28592/28592\n",
            "Sorting sequences by sequence PWM score to get PWM ranks; breaking ties to put negatives first.\n",
            "Leaving sequences sorted by PWM score.\n",
            "Optimizing over sequence PWM score threshold.\n",
            "MOTIF: 639 SEQ: 28592/28592\n"
          ]
        }
      ],
      "execution_count": 21,
      "metadata": {
        "collapsed": false,
        "outputHidden": false,
        "inputHidden": false
      }
    },
    {
      "cell_type": "markdown",
      "source": [
        "Clean Up Results"
      ],
      "metadata": {}
    },
    {
      "cell_type": "code",
      "source": [
        "!awk 'BEGIN{OFS=\"\\t\"} $1 !~ \"#\" {split($4, a, \"::\"); for (k in a) {print $1,$3,a[k],$7,$8};delete a}' output/AME/hi_VS_diffx/ame.tsv | sed 's/'\\(.*\\)'//g' > output/hi_TFMs.tsv\n",
        "!awk 'BEGIN{OFS=\"\\t\"} $1 !~ \"#\" {split($4, a, \"::\"); for (k in a) {print $1,$3,a[k],$7,$8};delete a}' output/AME/lo_VS_diffx/ame.tsv | sed 's/'\\(.*\\)'//g' > output/lo_TFMs.tsv\n",
        "!awk 'BEGIN{OFS=\"\\t\"} $1 !~ \"#\" {split($4, a, \"::\"); for (k in a) {print $1,$3,a[k],$7,$8};delete a}' output/AME/uphiwin0_VS_hi/ame.tsv | sed 's/'\\(.*\\)'//g' > output/uphiprox_TFMs.tsv"
      ],
      "outputs": [],
      "execution_count": 22,
      "metadata": {
        "collapsed": false,
        "outputHidden": false,
        "inputHidden": false
      }
    }
  ],
  "metadata": {
    "kernel_info": {
      "name": "python3"
    },
    "language_info": {
      "name": "python",
      "version": "3.7.2",
      "mimetype": "text/x-python",
      "codemirror_mode": {
        "name": "ipython",
        "version": 3
      },
      "pygments_lexer": "ipython3",
      "nbconvert_exporter": "python",
      "file_extension": ".py"
    },
    "kernelspec": {
      "name": "python3",
      "language": "python",
      "display_name": "Python 3"
    },
    "nteract": {
      "version": "0.15.0"
    }
  },
  "nbformat": 4,
  "nbformat_minor": 0
}