{
  "cells": [
    {
      "cell_type": "markdown",
      "source": [
        "# Recruitment Data Challenge\n",
        "\n",
        "The Bioinformatics & Biostatistics Group @ The Francis Crick Institute\n",
        "\n",
        "## Introduction\n",
        "\n",
        "Here you will find the data from an RNA-Seq and ATAC-Seq experiment. Both experiments have the same design. There is a treatment and control group each containing three replicates making a total of six samples per experiment. The data files are defined as follows (all files are tab delimited text files):\n",
        "\n",
        "#### RNA-Seq Data\n",
        "\n",
        "- **rnaseq_design.txt**: Sample ids and corresponding condition labels.\n",
        "- **rnaseq_gene_counts.txt**: Raw (not normalised) gene-level read counts for each sample.\n",
        "- **rnaseq_annotation.txt**: Gene level annotation.\n",
        "\n",
        "#### ATAC-Seq Data\n",
        "\n",
        "- **atacseq_design.txt**: Sample ids and corresponding condition labels.\n",
        "- **atacseq_peak_counts.txt**: Raw (not normalised) ATAC-Seq peak level counts for each sample.\n",
        "- **atacseq_peaks.bed**: A bed file defining the peak loci\n",
        "\n",
        "All sequence data were aligned to the human genome reference hg38.\n",
        "\n",
        "## The Challenge\n",
        "\n",
        "The treatment here is thought to activate a transcriptional program via remodelling of the chromatin architecture. The aim here is to:  \n",
        "1. Identify genes that may be regulated in this fashion.  \n",
        "2. Identify the possible transcriptional programs involved.  \n",
        "3. Present candidate transcription factors that may be responsible for the underlying regulation.  \n",
        "\n",
        "Please produce a 20 minute presentation detailing your exploration of the data, your analysis approach and findings?\n"
      ],
      "metadata": {}
    },
    {
      "cell_type": "markdown",
      "source": [
        "# Analysis\n",
        "## Strategy\n",
        "\n",
        "1. Identify genes with significant changes in expression.\n",
        "2. Identify zones with significant changes in accessibility.\n",
        "3. Detect hotspots in accessibility changes over gene regulatory areas of differentially expressed genes.\n",
        "4. Detect enriched TF motifs in zones presenting accessibility changes.\n",
        "5. Detect enriched TF motifs in hotspots.\n",
        "6. Perform GO Analysis to put genes in context."
      ],
      "metadata": {}
    },
    {
      "cell_type": "markdown",
      "source": [
        "### Download Data\n",
        "\n",
        "https://www.dropbox.com/s/075d1qzbm5jjq9p/data_challenge.tar.gz?dl=0"
      ],
      "metadata": {}
    },
    {
      "cell_type": "markdown",
      "source": [
        "## Preliminary Checks\n",
        "\n",
        "What does the data look like?"
      ],
      "metadata": {}
    },
    {
      "cell_type": "code",
      "source": [
        "!head data_challenge/atacseq_peak_counts.txt\n",
        "!head data_challenge/atacseq_peaks.bed\n",
        "!awk 'END{print NR}' data_challenge/atacseq_peak_counts.txt\n",
        "!awk 'END{print NR}' data_challenge/atacseq_peaks.bed\n",
        "!head data_challenge/rnaseq_gene_counts.txt\n",
        "!awk 'END{print NR}' data_challenge/rnaseq_gene_counts.txt"
      ],
      "outputs": [
        {
          "output_type": "stream",
          "name": "stdout",
          "text": [
            "peakid\ts84\ts85\ts86\ts93\ts94\ts95\n",
            "1:10003-10507\t278\t195\t292\t255\t287\t284\n",
            "1:20221-22634\t66\t56\t90\t67\t66\t120\n",
            "1:28574-30038\t184\t71\t139\t157\t153\t160\n",
            "1:37947-39588\t28\t15\t42\t81\t70\t128\n",
            "1:90824-91498\t15\t13\t23\t17\t17\t29\n",
            "1:107006-107256\t2\t1\t3\t8\t6\t20\n",
            "1:127516-127818\t5\t2\t6\t13\t14\t21\n",
            "1:136028-136767\t16\t14\t15\t11\t16\t20\n",
            "1:137366-137718\t11\t7\t9\t15\t13\t23\n",
            "1\t10002\t10507\n",
            "1\t20220\t22634\n",
            "1\t28573\t30038\n",
            "1\t37946\t39588\n",
            "1\t90823\t91498\n",
            "1\t107005\t107256\n",
            "1\t127515\t127818\n",
            "1\t136027\t136767\n",
            "1\t137365\t137718\n",
            "1\t138436\t139449\n",
            "173286\n",
            "173285\n",
            "featureid\ts69\ts70\ts71\ts75\ts76\ts77\n",
            "ENSG00000000003\t1\t1\t0\t8\t2\t1\n",
            "ENSG00000000005\t0\t0\t0\t0\t0\t0\n",
            "ENSG00000000419\t993\t469\t664\t1172\t491\t685\n",
            "ENSG00000000457\t385\t207\t235\t610\t226\t353\n",
            "ENSG00000000460\t849\t436\t522\t1002\t430\t608\n",
            "ENSG00000000938\t26\t6\t12\t75\t43\t44\n",
            "ENSG00000000971\t4\t2\t11\t10\t7\t7\n",
            "ENSG00000001036\t3\t1\t2\t1\t0\t0\n",
            "ENSG00000001084\t1767\t861\t995\t1984\t864\t1124\n",
            "58052\n"
          ]
        }
      ],
      "execution_count": 1,
      "metadata": {
        "collapsed": false,
        "outputHidden": false,
        "inputHidden": false
      }
    },
    {
      "cell_type": "markdown",
      "source": [
        "Do peak IDs match in bed/counts?"
      ],
      "metadata": {}
    },
    {
      "cell_type": "code",
      "source": [
        "!awk 'NR==FNR{x[$1]; next} {y=$1\":\"$2+1\"-\"$3; if (y in x) {present++;} else {absent++}} END{print \"present = \" present, \"absent = \" absent}' data_challenge/atacseq_peak_counts.txt data_challenge/atacseq_peaks.bed"
      ],
      "outputs": [
        {
          "output_type": "stream",
          "name": "stdout",
          "text": [
            "present = 173285 absent = \r\n"
          ]
        }
      ],
      "execution_count": 2,
      "metadata": {
        "collapsed": false,
        "outputHidden": false,
        "inputHidden": false
      }
    },
    {
      "cell_type": "markdown",
      "source": [
        "Formatting into BED6"
      ],
      "metadata": {}
    },
    {
      "cell_type": "code",
      "source": [
        "!awk 'BEGIN{OFS=\"\\t\"}{name=$1\":\"$2+1\"-\"$3; score=$3-$2; strand=\".\"; print $0,name,score,strand}' data_challenge/atacseq_peaks.bed > output/atacseq_peaks.bed6\n",
        "!awk 'BEGIN{OFS=\"\\t\"}NR>1{name=$1; score=$4-$3+1; strand=$6; print $2,$3-1,$4,name,score,strand}' data_challenge/rnaseq_annotation.txt > output/rnaseq_genes.bed6"
      ],
      "outputs": [],
      "execution_count": 3,
      "metadata": {
        "collapsed": false,
        "outputHidden": false,
        "inputHidden": false
      }
    },
    {
      "cell_type": "markdown",
      "source": [
        "GRCh38 genome index generated from the GENCODE GRCh38 Primary Assembly"
      ],
      "metadata": {}
    },
    {
      "cell_type": "code",
      "source": [
        "!curl \"ftp://ftp.ebi.ac.uk/pub/databases/gencode/Gencode_human/release_32/GRCh38.primary_assembly.genome.fa.gz\" | gunzip -c | sed 's/chr//g' > external/GRCh38.fa && samtools faidx external/GRCh38.fa\n",
        "!awk 'BEGIN{OFS=\"\\t\"} {print $1,$2}' external/GRCh38.fa.fai | sort -k1,1 -k2,2n > output/GRCh38.genome"
      ],
      "outputs": [
        {
          "output_type": "stream",
          "name": "stdout",
          "text": [
            "  % Total    % Received % Xferd  Average Speed   Time    Time     Time  Current\n",
            "                                 Dload  Upload   Total   Spent    Left  Speed\n",
            "100  805M  100  805M    0     0  3976k      0  0:03:27  0:03:27 --:--:-- 2361k\n"
          ]
        }
      ],
      "execution_count": 4,
      "metadata": {
        "collapsed": false,
        "outputHidden": false,
        "inputHidden": false
      }
    },
    {
      "cell_type": "markdown",
      "source": [
        "Are peaks supported by at least 2 replicates from a group?"
      ],
      "metadata": {}
    },
    {
      "cell_type": "code",
      "source": [
        "!awk '{ for(i = 2; i <= 4; i++) {if($i>0){ctrl++}; } for(i = 5; i <= NF; i++) {if($i>0){test++};} if(ctrl < 2 && test < 2) {flag++}; test=0;ctrl=0}END{print \"sites supported by less than 2 replicates per group:\"flag}' data_challenge/atacseq_peak_counts.txt"
      ],
      "outputs": [
        {
          "output_type": "stream",
          "name": "stdout",
          "text": [
            "sites supported by less than 2 replicates per group:\r\n"
          ]
        }
      ],
      "execution_count": 5,
      "metadata": {
        "collapsed": false,
        "outputHidden": false,
        "inputHidden": false
      }
    },
    {
      "cell_type": "markdown",
      "source": [
        "Some regions are blacklisted, looking for overlaps and removing them  \n",
        "Original blacklist downloaded from https://www.encodeproject.org/annotations/ENCSR636HFF/"
      ],
      "metadata": {}
    },
    {
      "cell_type": "code",
      "source": [
        "!gunzip -c external/ENCFF419RSJ.bed.gz | sed 's/chr//g' | awk 'BEGIN{OFS=\"\\t\"}{name=$1\":\"$2+1\"-\"$3; score=$3-$2; strand=\".\"; print $0,name,score,strand}' > external/blacklist.bed\n",
        "!bedtools intersect -wo -b output/atacseq_peaks.bed6 -a external/blacklist.bed > output/atac_blacklisted.tsv\n",
        "#If the peaks present more than 25 bp overlap with the black listed sites they are removed:\n",
        "!awk 'BEGIN{OFS=\"\\t\"} $13 > 25' output/atac_blacklisted.tsv | bedtools subtract -A -a output/atacseq_peaks.bed6 -b - > output/atacseq_fpeaks.bed6\n",
        "!awk 'BEGIN{OFS=\"\\t\"} NR==FNR{if($13 > 25 ){bad[$10]};next} {if($1 in bad){next}else{print $0}}' output/atac_blacklisted.tsv data_challenge/atacseq_peak_counts.txt > output/atacseq_fpeak_counts.txt\n",
        "!awk 'END{print NR}' output/atacseq_fpeak_counts.txt\n",
        "!awk 'END{print NR}' output/atacseq_fpeaks.bed6"
      ],
      "outputs": [
        {
          "output_type": "stream",
          "name": "stdout",
          "text": [
            "173265\n",
            "173264\n"
          ]
        }
      ],
      "execution_count": 7,
      "metadata": {
        "collapsed": false,
        "outputHidden": false,
        "inputHidden": false
      }
    }
  ],
  "metadata": {
    "kernel_info": {
      "name": "python3"
    },
    "language_info": {
      "name": "python",
      "version": "3.7.2",
      "mimetype": "text/x-python",
      "codemirror_mode": {
        "name": "ipython",
        "version": 3
      },
      "pygments_lexer": "ipython3",
      "nbconvert_exporter": "python",
      "file_extension": ".py"
    },
    "kernelspec": {
      "name": "python3",
      "language": "python",
      "display_name": "Python 3"
    },
    "nteract": {
      "version": "0.15.0"
    }
  },
  "nbformat": 4,
  "nbformat_minor": 0
}